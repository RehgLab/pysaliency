{
 "cells": [
  {
   "cell_type": "code",
   "execution_count": 23,
   "metadata": {},
   "outputs": [],
   "source": [
    "import numpy as np\n",
    "import os\n",
    "import pysaliency\n",
    "from tqdm import tqdm\n",
    "\n",
    "'''\n",
    "MATLAB is needed to run the various processing scripts/model scripts\n",
    "These were writen in MATLAB originally and the authors built Python \n",
    "wrappers to call them.\n",
    "'''\n",
    "os.environ['PATH'] = f'/software/matlab-R2023b/bin/:{os.environ[\"PATH\"]}'"
   ]
  },
  {
   "cell_type": "code",
   "execution_count": 24,
   "metadata": {},
   "outputs": [],
   "source": [
    "stimuli, fixations = pysaliency.get_mit1003(location='pysaliency_datasets')"
   ]
  },
  {
   "cell_type": "code",
   "execution_count": 25,
   "metadata": {},
   "outputs": [],
   "source": [
    "id_to_name = {\n",
    "    0: 'CNG', 1: 'ajs', 2: 'emb', 3: 'ems', \n",
    "    4: 'ff', 5: 'hp', 6: 'jcw', 7: 'jw', \n",
    "    8: 'kae', 9: 'krl', 10: 'po', 11: 'tmj', \n",
    "    12: 'tu', 13: 'ya', 14: 'zb'\n",
    "}"
   ]
  },
  {
   "cell_type": "code",
   "execution_count": 26,
   "metadata": {},
   "outputs": [
    {
     "name": "stderr",
     "output_type": "stream",
     "text": [
      "  0%|          | 0/15045 [00:00<?, ?it/s]"
     ]
    },
    {
     "name": "stderr",
     "output_type": "stream",
     "text": [
      "100%|██████████| 15045/15045 [00:02<00:00, 5068.27it/s]\n"
     ]
    }
   ],
   "source": [
    "sps = fixations.scanpaths\n",
    "save_to = '/home/nisar2/datasets/saliency-datasets/for-pytorch/MIT1003/fixations'\n",
    "for i in tqdm(range(len(sps))):\n",
    "    x = sps.xs[i]\n",
    "    y = sps.ys[i]\n",
    "    subject_name = id_to_name[sps.subject[i]]\n",
    "    stim = os.path.basename(stimuli.filenames[sps.n[i]])\n",
    "    xy = np.array([x,y]).T\n",
    "    save_filename = f'{subject_name}_{stim}'.split('.')[0] + '.csv'\n",
    "    save_file_pth = os.path.join(save_to, save_filename)\n",
    "    np.savetxt(save_file_pth, xy, delimiter=\",\")"
   ]
  }
 ],
 "metadata": {
  "kernelspec": {
   "display_name": "env",
   "language": "python",
   "name": "python3"
  },
  "language_info": {
   "codemirror_mode": {
    "name": "ipython",
    "version": 3
   },
   "file_extension": ".py",
   "mimetype": "text/x-python",
   "name": "python",
   "nbconvert_exporter": "python",
   "pygments_lexer": "ipython3",
   "version": "3.11.3"
  }
 },
 "nbformat": 4,
 "nbformat_minor": 2
}
